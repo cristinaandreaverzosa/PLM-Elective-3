{
  "nbformat": 4,
  "nbformat_minor": 0,
  "metadata": {
    "colab": {
      "provenance": [],
      "authorship_tag": "ABX9TyM8nLsEFbGq4J+9j23j2yrL",
      "include_colab_link": true
    },
    "kernelspec": {
      "name": "python3",
      "display_name": "Python 3"
    },
    "language_info": {
      "name": "python"
    }
  },
  "cells": [
    {
      "cell_type": "markdown",
      "metadata": {
        "id": "view-in-github",
        "colab_type": "text"
      },
      "source": [
        "<a href=\"https://colab.research.google.com/github/cristinaandreaverzosa/PLM-Elective-3-Lab/blob/main/Conditional_Statement.ipynb\" target=\"_parent\"><img src=\"https://colab.research.google.com/assets/colab-badge.svg\" alt=\"Open In Colab\"/></a>"
      ]
    },
    {
      "cell_type": "markdown",
      "source": [
        "If Statement"
      ],
      "metadata": {
        "id": "dkX0rKKoB7Xh"
      }
    },
    {
      "cell_type": "code",
      "source": [
        "a = 12\n",
        "b = 100\n",
        "\n",
        "if a < b:\n",
        "  print(\"a is less than b\")\n"
      ],
      "metadata": {
        "id": "qyBuIWEUCU8k",
        "colab": {
          "base_uri": "https://localhost:8080/"
        },
        "outputId": "fbdd9f8c-37db-4606-b5fe-eb7f37868767"
      },
      "execution_count": 12,
      "outputs": [
        {
          "output_type": "stream",
          "name": "stdout",
          "text": [
            "a is less than b\n"
          ]
        }
      ]
    },
    {
      "cell_type": "markdown",
      "source": [
        "Elif Statement"
      ],
      "metadata": {
        "id": "tc3Xjx_UChle"
      }
    },
    {
      "cell_type": "code",
      "source": [
        "print (\"Enter your age: \")\n",
        "age = int(input())\n",
        "if age >= 18:\n",
        "  print (\"You are qualified to get a license\")\n",
        "elif age < 18:\n",
        "  print (\"You are not qualified to get license\")\n"
      ],
      "metadata": {
        "id": "4gPheZ8kCuzB",
        "colab": {
          "base_uri": "https://localhost:8080/"
        },
        "outputId": "f992fd08-a604-40ae-8b0c-63a5a5785f65"
      },
      "execution_count": 11,
      "outputs": [
        {
          "output_type": "stream",
          "name": "stdout",
          "text": [
            "Enter your age: \n",
            "21\n",
            "You are qualified to get a license\n"
          ]
        }
      ]
    },
    {
      "cell_type": "markdown",
      "source": [
        "Else Statement"
      ],
      "metadata": {
        "id": "rZyr9nW0E255"
      }
    },
    {
      "cell_type": "code",
      "source": [
        "print(\"Enter an integer: \")\n",
        "x = int(input())\n",
        "if x > 0:\n",
        "  print(x, \"is positive number\")\n",
        "elif x < 0:\n",
        "  print(x, \"is negative number\")\n",
        "else:\n",
        "  print(\"x is zero\")"
      ],
      "metadata": {
        "colab": {
          "base_uri": "https://localhost:8080/"
        },
        "id": "i-Y2xITqE48F",
        "outputId": "3e78eb12-2c04-41c3-b514-5cb08d602801"
      },
      "execution_count": null,
      "outputs": [
        {
          "output_type": "stream",
          "name": "stdout",
          "text": [
            "Enter an integer: \n",
            "56\n",
            "56 is positive number\n"
          ]
        }
      ]
    },
    {
      "cell_type": "markdown",
      "source": [
        "Short Hand If Statement"
      ],
      "metadata": {
        "id": "0t6mysXJFdDS"
      }
    },
    {
      "cell_type": "code",
      "source": [
        "if a<b:\n",
        "  print('a is less than b')"
      ],
      "metadata": {
        "colab": {
          "base_uri": "https://localhost:8080/"
        },
        "id": "wUScULFOF0uk",
        "outputId": "5cb66c07-90f9-400d-eddb-792d55202f93"
      },
      "execution_count": 13,
      "outputs": [
        {
          "output_type": "stream",
          "name": "stdout",
          "text": [
            "a is less than b\n"
          ]
        }
      ]
    },
    {
      "cell_type": "markdown",
      "source": [
        "Short Hand If...Else Statement"
      ],
      "metadata": {
        "id": "_h5oMuuiG7BB"
      }
    },
    {
      "cell_type": "code",
      "source": [
        "print('a is greater than b') if a > b else print('b is greater than a')"
      ],
      "metadata": {
        "colab": {
          "base_uri": "https://localhost:8080/"
        },
        "id": "bsndF-knG6n7",
        "outputId": "f094cdb6-64f1-478e-d9c3-d3b46799bf79"
      },
      "execution_count": 14,
      "outputs": [
        {
          "output_type": "stream",
          "name": "stdout",
          "text": [
            "b is greater than a\n"
          ]
        }
      ]
    },
    {
      "cell_type": "markdown",
      "source": [
        "And Statement"
      ],
      "metadata": {
        "id": "NQiuCTgTHQO0"
      }
    },
    {
      "cell_type": "code",
      "source": [
        "c = 500\n",
        "if a<b and c>a:\n",
        "  print('both statements are true')"
      ],
      "metadata": {
        "colab": {
          "base_uri": "https://localhost:8080/"
        },
        "id": "CIIhs1LyHOIr",
        "outputId": "96daa5e6-fa8c-44d7-8358-ccfb1f39b952"
      },
      "execution_count": 31,
      "outputs": [
        {
          "output_type": "stream",
          "name": "stdout",
          "text": [
            "both statements are true\n"
          ]
        }
      ]
    },
    {
      "cell_type": "markdown",
      "source": [
        "Or Statement"
      ],
      "metadata": {
        "id": "X2V_xx-bHWMn"
      }
    },
    {
      "cell_type": "code",
      "source": [
        "if a<b or c>a:\n",
        "  print('both statements are true')"
      ],
      "metadata": {
        "colab": {
          "base_uri": "https://localhost:8080/"
        },
        "id": "svy_v6CgHXnT",
        "outputId": "8f91bfd8-07c3-4e4c-aee4-758c30fa3fdc"
      },
      "execution_count": 32,
      "outputs": [
        {
          "output_type": "stream",
          "name": "stdout",
          "text": [
            "both statements are true\n"
          ]
        }
      ]
    },
    {
      "cell_type": "markdown",
      "source": [
        "Nested If Statement"
      ],
      "metadata": {
        "id": "ZBZH-QPsHX3Z"
      }
    },
    {
      "cell_type": "code",
      "source": [
        "print (\"Enter a number: \")\n",
        "x = int(input())\n",
        "if x > 10:\n",
        "  print(\"Above 10,\")\n",
        "  if x > 20:\n",
        "    print(\"and also above 20!\")\n",
        "    if x > 30:\n",
        "      print(\"and also above 30!\")\n",
        "      if x > 40:\n",
        "        print(\"and also above 40!\")\n",
        "        if x > 50:\n",
        "          print(\"and also above 50.\")\n",
        "        else:\n",
        "          print(\"but not above 50.\")\n",
        "      else:\n",
        "          print(\"but not above 40.\")\n",
        "    else:\n",
        "        print(\"but not above 30.\")\n",
        "  else:\n",
        "      print(\"but not above 20.\")\n",
        "else:\n",
        "    print(\"but not above 10.\")"
      ],
      "metadata": {
        "colab": {
          "base_uri": "https://localhost:8080/"
        },
        "id": "a2kKyO8RHw_E",
        "outputId": "711812fc-a9f1-42f0-a511-f7aadd8c227a"
      },
      "execution_count": 30,
      "outputs": [
        {
          "output_type": "stream",
          "name": "stdout",
          "text": [
            "Enter a number: \n",
            "27\n",
            "Above 10,\n",
            "and also above 20!\n",
            "but not above 30.\n"
          ]
        }
      ]
    }
  ]
}