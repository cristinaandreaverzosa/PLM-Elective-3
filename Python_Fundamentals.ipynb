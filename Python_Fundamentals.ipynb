{
  "nbformat": 4,
  "nbformat_minor": 0,
  "metadata": {
    "colab": {
      "provenance": [],
      "authorship_tag": "ABX9TyPTQosMwRg0arADvv8q03jp",
      "include_colab_link": true
    },
    "kernelspec": {
      "name": "python3",
      "display_name": "Python 3"
    },
    "language_info": {
      "name": "python"
    }
  },
  "cells": [
    {
      "cell_type": "markdown",
      "metadata": {
        "id": "view-in-github",
        "colab_type": "text"
      },
      "source": [
        "<a href=\"https://colab.research.google.com/github/cristinaandreaverzosa/PLM-Elective-3/blob/main/Python_Fundamentals.ipynb\" target=\"_parent\"><img src=\"https://colab.research.google.com/assets/colab-badge.svg\" alt=\"Open In Colab\"/></a>"
      ]
    },
    {
      "cell_type": "markdown",
      "source": [
        "Python Indentation"
      ],
      "metadata": {
        "id": "iO6rwVn9jGFr"
      }
    },
    {
      "cell_type": "code",
      "source": [
        "x = 5\n",
        "y = 2\n",
        "if x > y:\n",
        "  print(\"Five is greater than two!\")"
      ],
      "metadata": {
        "colab": {
          "base_uri": "https://localhost:8080/"
        },
        "id": "5tbact7JjZ6F",
        "outputId": "d032353a-87e0-45f4-9443-231a6dc347fd"
      },
      "execution_count": 32,
      "outputs": [
        {
          "output_type": "stream",
          "name": "stdout",
          "text": [
            "Five is greater than two!\n"
          ]
        }
      ]
    },
    {
      "cell_type": "markdown",
      "source": [
        "Python Comment"
      ],
      "metadata": {
        "id": "cgEJcARPks-j"
      }
    },
    {
      "cell_type": "code",
      "source": [
        "print(\"HELLO WORLD!\") #this is a python comment"
      ],
      "metadata": {
        "colab": {
          "base_uri": "https://localhost:8080/"
        },
        "id": "ld8pOhu4kxLv",
        "outputId": "7561eef5-deee-46e0-d0ee-900181ada589"
      },
      "execution_count": 5,
      "outputs": [
        {
          "output_type": "stream",
          "name": "stdout",
          "text": [
            "HELLO WORLD!\n"
          ]
        }
      ]
    },
    {
      "cell_type": "markdown",
      "source": [
        "Python Variable"
      ],
      "metadata": {
        "id": "5J9ZHE3Qk57z"
      }
    },
    {
      "cell_type": "code",
      "source": [
        "z = 1\n",
        "z, s = 0, -1\n",
        "z, s, t = 8, 9, 10\n",
        "print(z)\n",
        "print(s)\n",
        "print(t)"
      ],
      "metadata": {
        "colab": {
          "base_uri": "https://localhost:8080/"
        },
        "id": "O2wB0LUElIPR",
        "outputId": "8310619f-cb28-432a-b0b4-a28a4a087db2"
      },
      "execution_count": 13,
      "outputs": [
        {
          "output_type": "stream",
          "name": "stdout",
          "text": [
            "8\n",
            "9\n",
            "10\n"
          ]
        }
      ]
    },
    {
      "cell_type": "markdown",
      "source": [
        "Casting"
      ],
      "metadata": {
        "id": "2uM0ntI8lxUZ"
      }
    },
    {
      "cell_type": "code",
      "source": [
        "b = \"Sally\" #this is a string\n",
        "b = int(4) #this will convert the string into an integer\n",
        "print(b)"
      ],
      "metadata": {
        "colab": {
          "base_uri": "https://localhost:8080/"
        },
        "id": "tmVflTVNmC7t",
        "outputId": "404866f6-c14d-4610-eae9-5f7cb57e8bba"
      },
      "execution_count": 15,
      "outputs": [
        {
          "output_type": "stream",
          "name": "stdout",
          "text": [
            "4\n"
          ]
        }
      ]
    },
    {
      "cell_type": "markdown",
      "source": [
        "Type() Function"
      ],
      "metadata": {
        "id": "-0U9XQkYmYg9"
      }
    },
    {
      "cell_type": "code",
      "source": [
        "print(type(b))"
      ],
      "metadata": {
        "colab": {
          "base_uri": "https://localhost:8080/"
        },
        "id": "J7r_LupimdLm",
        "outputId": "50b1947b-1491-4fc8-d1c1-937935ddc070"
      },
      "execution_count": 16,
      "outputs": [
        {
          "output_type": "stream",
          "name": "stdout",
          "text": [
            "<class 'int'>\n"
          ]
        }
      ]
    },
    {
      "cell_type": "markdown",
      "source": [
        "Double Quotes and Single Quotes"
      ],
      "metadata": {
        "id": "1gK9vlI6m-5n"
      }
    },
    {
      "cell_type": "code",
      "source": [
        "w = \"Ana\"\n",
        "print(w)\n",
        "q = 'Ana'\n",
        "print(q)"
      ],
      "metadata": {
        "colab": {
          "base_uri": "https://localhost:8080/"
        },
        "id": "1SqGwEoYnEEV",
        "outputId": "0b1e76df-992d-4b68-f77f-1ac57fb30369"
      },
      "execution_count": 17,
      "outputs": [
        {
          "output_type": "stream",
          "name": "stdout",
          "text": [
            "Ana\n",
            "Ana\n"
          ]
        }
      ]
    },
    {
      "cell_type": "markdown",
      "source": [
        "Case Sensitive"
      ],
      "metadata": {
        "id": "rNw6PRAEnWS4"
      }
    },
    {
      "cell_type": "code",
      "source": [
        "from re import A\n",
        "a = int(4)\n",
        "A = \"Sally\"\n",
        "a\n",
        "A"
      ],
      "metadata": {
        "colab": {
          "base_uri": "https://localhost:8080/",
          "height": 35
        },
        "id": "6V5NqHWvnaef",
        "outputId": "ead85394-8037-4619-e6cd-07b8a8084a40"
      },
      "execution_count": 20,
      "outputs": [
        {
          "output_type": "execute_result",
          "data": {
            "text/plain": [
              "'Sally'"
            ],
            "application/vnd.google.colaboratory.intrinsic+json": {
              "type": "string"
            }
          },
          "metadata": {},
          "execution_count": 20
        }
      ]
    },
    {
      "cell_type": "markdown",
      "source": [
        "Multiple Variables"
      ],
      "metadata": {
        "id": "e1t95gWvn8-p"
      }
    },
    {
      "cell_type": "code",
      "source": [
        "h, i, j = \"one\", 'two', \"three\"\n",
        "print(h)\n",
        "print(i)\n",
        "print(j)"
      ],
      "metadata": {
        "colab": {
          "base_uri": "https://localhost:8080/"
        },
        "id": "qU_Ao2wun-qg",
        "outputId": "d8a3506d-2b4d-4294-aeb3-4924ec94d705"
      },
      "execution_count": 22,
      "outputs": [
        {
          "output_type": "stream",
          "name": "stdout",
          "text": [
            "one\n",
            "two\n",
            "three\n"
          ]
        }
      ]
    },
    {
      "cell_type": "markdown",
      "source": [
        "Multiple Variables with Single Value"
      ],
      "metadata": {
        "id": "3ekG9yQBoWSI"
      }
    },
    {
      "cell_type": "code",
      "source": [
        "k = l = m = \"four\"\n",
        "print(k)\n",
        "print(l)\n",
        "print(m)"
      ],
      "metadata": {
        "colab": {
          "base_uri": "https://localhost:8080/"
        },
        "id": "kjgf-hgKoeme",
        "outputId": "5e07b9db-a074-46b6-a4f9-a935a969b821"
      },
      "execution_count": 24,
      "outputs": [
        {
          "output_type": "stream",
          "name": "stdout",
          "text": [
            "four\n",
            "four\n",
            "four\n"
          ]
        }
      ]
    },
    {
      "cell_type": "markdown",
      "source": [
        "Output Variable and Concatenation +"
      ],
      "metadata": {
        "id": "hz6gcqaJo3OJ"
      }
    },
    {
      "cell_type": "code",
      "source": [
        "n = \"enjoying\"\n",
        "print(\"Python programming is\" + \" \" + n)"
      ],
      "metadata": {
        "colab": {
          "base_uri": "https://localhost:8080/"
        },
        "id": "4Eqp6TZJpB_1",
        "outputId": "5a635174-a8cc-4825-8419-883cae01abcf"
      },
      "execution_count": 27,
      "outputs": [
        {
          "output_type": "stream",
          "name": "stdout",
          "text": [
            "Python programming is enjoying\n"
          ]
        }
      ]
    },
    {
      "cell_type": "markdown",
      "source": [
        "Other Way"
      ],
      "metadata": {
        "id": "OLwGwo4Fpd20"
      }
    },
    {
      "cell_type": "code",
      "source": [
        "n = \"Python is \"\n",
        "p = \"enjoying\"\n",
        "print (n+p)"
      ],
      "metadata": {
        "colab": {
          "base_uri": "https://localhost:8080/"
        },
        "id": "WubUKyzZpi2U",
        "outputId": "4c8d567e-5cfe-4c80-e9cd-a418083f85c4"
      },
      "execution_count": 33,
      "outputs": [
        {
          "output_type": "stream",
          "name": "stdout",
          "text": [
            "Python is enjoying\n"
          ]
        }
      ]
    },
    {
      "cell_type": "markdown",
      "source": [
        "Arithmetic Operations"
      ],
      "metadata": {
        "id": "ZMBRwqWkvMR_"
      }
    },
    {
      "cell_type": "code",
      "source": [
        "x + y\n",
        "x - y\n",
        "x * y\n",
        "x / y\n",
        "x % y\n",
        "x ** y\n",
        "x // y\n",
        "print(x + y) #Addition\n",
        "print(x - y) #Subtraction\n",
        "print(x * y) #Multiplication\n",
        "print(round(5/2)) #Division & removes decimal/remainder\n",
        "print(x % y) #Modulus\n",
        "print(x ** y) #Exponentiation\n",
        "print(x // y) #Floor Division"
      ],
      "metadata": {
        "colab": {
          "base_uri": "https://localhost:8080/"
        },
        "id": "SVAxtXFlvO1R",
        "outputId": "d8be3d5a-f1ea-480e-fe97-71c6ec67a55a"
      },
      "execution_count": 39,
      "outputs": [
        {
          "output_type": "stream",
          "name": "stdout",
          "text": [
            "7\n",
            "3\n",
            "10\n",
            "2\n",
            "1\n",
            "25\n",
            "2\n"
          ]
        }
      ]
    },
    {
      "cell_type": "markdown",
      "source": [
        "Assignment Operators"
      ],
      "metadata": {
        "id": "eJjrazTywoo0"
      }
    },
    {
      "cell_type": "code",
      "source": [
        "x += 5 #same as x = x+5\n",
        "print(x)"
      ],
      "metadata": {
        "colab": {
          "base_uri": "https://localhost:8080/"
        },
        "id": "JW04CCRpwruq",
        "outputId": "09f7ea48-28b0-4db3-c76f-9da43925cd4b"
      },
      "execution_count": 53,
      "outputs": [
        {
          "output_type": "stream",
          "name": "stdout",
          "text": [
            "30.0\n"
          ]
        }
      ]
    },
    {
      "cell_type": "markdown",
      "source": [
        "Comparison Operator"
      ],
      "metadata": {
        "id": "HgJQucAPxMfq"
      }
    },
    {
      "cell_type": "code",
      "source": [
        "x==y #x=5, y=2\n",
        "x!=y\n",
        "x>y\n",
        "x<y\n",
        "x>=y\n",
        "x<=y\n",
        "print(x==y)\n",
        "print(x!=y)\n",
        "print(x>y)\n",
        "print(x<y)\n",
        "print(x>=y)\n",
        "print(x<=y)"
      ],
      "metadata": {
        "colab": {
          "base_uri": "https://localhost:8080/"
        },
        "id": "U2eMAdTTxP_7",
        "outputId": "850ac9ec-037e-40b3-a8af-730f625bc621"
      },
      "execution_count": 45,
      "outputs": [
        {
          "output_type": "stream",
          "name": "stdout",
          "text": [
            "False\n",
            "True\n",
            "False\n",
            "True\n",
            "False\n",
            "True\n"
          ]
        }
      ]
    },
    {
      "cell_type": "markdown",
      "source": [
        "Logical Operator"
      ],
      "metadata": {
        "id": "NYMjMIYlxxzO"
      }
    },
    {
      "cell_type": "code",
      "source": [
        "print (x == y and x!=y) #False and True\n",
        "print (x == y or x!=y)  #False or True\n",
        "print (not(x == y or x!=y)) #negate (False or True)"
      ],
      "metadata": {
        "colab": {
          "base_uri": "https://localhost:8080/"
        },
        "id": "_aWHeBa5x1Zc",
        "outputId": "b772b2a0-d247-4324-b5de-31847bd27532"
      },
      "execution_count": 58,
      "outputs": [
        {
          "output_type": "stream",
          "name": "stdout",
          "text": [
            "False\n",
            "True\n",
            "False\n"
          ]
        }
      ]
    },
    {
      "cell_type": "markdown",
      "source": [
        "Identity Operators"
      ],
      "metadata": {
        "id": "Vj9MQMzEy3op"
      }
    },
    {
      "cell_type": "code",
      "source": [
        "x is y #x=5, y=2\n",
        "x is not y #x=5, y=2\n",
        "print(x is y)\n",
        "print(x is not y)"
      ],
      "metadata": {
        "colab": {
          "base_uri": "https://localhost:8080/"
        },
        "id": "-N-Buy0Iy623",
        "outputId": "4c59f8b1-38aa-4f8a-a9ef-734f49049f22"
      },
      "execution_count": 63,
      "outputs": [
        {
          "output_type": "stream",
          "name": "stdout",
          "text": [
            "False\n",
            "True\n"
          ]
        }
      ]
    },
    {
      "cell_type": "markdown",
      "source": [
        "Bitwise Operators"
      ],
      "metadata": {
        "id": "-s7a1jJXzU6t"
      }
    },
    {
      "cell_type": "code",
      "source": [
        "#10 + 1 = 11    ;1010 + 0001 = 1011\n",
        "10 & 1\n",
        "10 | 1\n",
        "10 ^ 1\n",
        "10 << 1\n",
        "10 >> 1\n",
        "print(10 & 1)\n",
        "print(10 | 1)\n",
        "print(10 ^ 1)\n",
        "print(10 << 1)\n",
        "print(10 >> 1)"
      ],
      "metadata": {
        "colab": {
          "base_uri": "https://localhost:8080/"
        },
        "id": "EOLYdLdTzGso",
        "outputId": "1fc71270-8002-4c3b-95a6-b8c89c8a69e2"
      },
      "execution_count": 69,
      "outputs": [
        {
          "output_type": "stream",
          "name": "stdout",
          "text": [
            "0\n",
            "11\n",
            "11\n",
            "20\n",
            "5\n"
          ]
        }
      ]
    },
    {
      "cell_type": "markdown",
      "source": [
        "APPLICATION 1"
      ],
      "metadata": {
        "id": "75RUHmmm07aO"
      }
    },
    {
      "cell_type": "code",
      "source": [
        "#Create a Python program that displays your Fullname, Age, and Course and Section\n",
        "name = \"Cristina Andrea Verzosa\"\n",
        "age = int(21)\n",
        "course, sec = \"CPE 0332.1\", \"- 1\"  # uses Multiple Variable\n",
        "\n",
        "print(\"Name:\", name)\n",
        "print(\"Age:\", age)\n",
        "print(\"Course & Section:\", course, sec)"
      ],
      "metadata": {
        "colab": {
          "base_uri": "https://localhost:8080/"
        },
        "id": "tFoij_uT0-Sy",
        "outputId": "55bb9760-cc4f-49f2-cd4b-9ea5ab32cd52"
      },
      "execution_count": 88,
      "outputs": [
        {
          "output_type": "stream",
          "name": "stdout",
          "text": [
            "Name: Cristina Andrea Verzosa\n",
            "Age: 21\n",
            "Course & Section: CPE 0332.1 - 1\n"
          ]
        }
      ]
    }
  ]
}